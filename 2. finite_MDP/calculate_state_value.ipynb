{
 "cells": [
  {
   "cell_type": "code",
   "execution_count": null,
   "metadata": {},
   "outputs": [],
   "source": [
    "import numpy as np\n",
    "\n",
    "# 状态转移概率矩阵\n",
    "P = np.array([\n",
    "    [0.9, 0.1, 0.0, 0.0, 0.0, 0.0],\n",
    "    [0.5, 0.0, 0.5, 0.0, 0.0, 0.0],\n",
    "    [0.0, 0.0, 0.0, 0.6, 0.0, 0.4],\n",
    "    [0.0, 0.0, 0.0, 0.0, 0.3, 0.7],\n",
    "    [0.0, 0.2, 0.3, 0.5, 0.0, 0.0],\n",
    "    [0.0, 0.0, 0.0, 0.0, 0.0, 1.0],\n",
    "])\n",
    "\n",
    "R = np.array([-1, -2, -2, 10, 1, 0])\n",
    "gamma=0.5"
   ]
  },
  {
   "cell_type": "code",
   "execution_count": null,
   "metadata": {},
   "outputs": [],
   "source": [
    "def get_episode_return(episode):\n",
    "    ret = 0.0\n",
    "    for i, s in enumerate(episode):\n",
    "        ret += R[s]*0.5**i\n",
    "    return ret\n",
    "\n",
    "\n",
    "get_episode_return([0, 1, 2, 5])"
   ]
  },
  {
   "cell_type": "code",
   "execution_count": null,
   "metadata": {},
   "outputs": [],
   "source": [
    "def calculate_state_value_by_iteration():\n",
    "    state_value=np.ones([6])\n",
    "    for _ in range(100):\n",
    "        state_value=R+gamma*P@state_value\n",
    "    return state_value\n",
    "\n",
    "calculate_state_value_by_iteration()"
   ]
  },
  {
   "cell_type": "code",
   "execution_count": null,
   "metadata": {},
   "outputs": [],
   "source": [
    "def calculate_state_value_by_closed_form_solution():\n",
    "    return np.linalg.inv(np.eye(P.shape[0])-gamma*P)@R\n",
    "calculate_state_value_by_closed_form_solution()"
   ]
  }
 ],
 "metadata": {
  "kernelspec": {
   "display_name": "QCNet",
   "language": "python",
   "name": "python3"
  },
  "language_info": {
   "codemirror_mode": {
    "name": "ipython",
    "version": 3
   },
   "file_extension": ".py",
   "mimetype": "text/x-python",
   "name": "python",
   "nbconvert_exporter": "python",
   "pygments_lexer": "ipython3",
   "version": "3.8.16"
  }
 },
 "nbformat": 4,
 "nbformat_minor": 2
}
