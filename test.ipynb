{
 "cells": [
  {
   "cell_type": "code",
   "execution_count": 9,
   "metadata": {},
   "outputs": [
    {
     "name": "stdout",
     "output_type": "stream",
     "text": [
      "[10127, 10055, 9976, 10024, 9930, 9851, 9949, 10081, 9936, 10071]\n"
     ]
    }
   ],
   "source": [
    "import numpy as np\n",
    "\n",
    "def get_random():\n",
    "    r1=np.random.randint(1,8)\n",
    "    while r1==7:\n",
    "        r1=np.random.randint(1,8)\n",
    "    \n",
    "    r2=np.random.randint(1,8)\n",
    "    while r2>=6:\n",
    "        r2=np.random.randint(1,8)\n",
    "    \n",
    "    if r1<=3:\n",
    "        return r2-1\n",
    "    else:\n",
    "        return r2+4\n",
    "\n",
    "counts=[0 for _ in range(10)]\n",
    "for _ in range(100000):\n",
    "    counts[get_random()]+=1\n",
    "\n",
    "print(counts)\n"
   ]
  }
 ],
 "metadata": {
  "kernelspec": {
   "display_name": "QCNet",
   "language": "python",
   "name": "python3"
  },
  "language_info": {
   "codemirror_mode": {
    "name": "ipython",
    "version": 3
   },
   "file_extension": ".py",
   "mimetype": "text/x-python",
   "name": "python",
   "nbconvert_exporter": "python",
   "pygments_lexer": "ipython3",
   "version": "3.8.16"
  }
 },
 "nbformat": 4,
 "nbformat_minor": 2
}
