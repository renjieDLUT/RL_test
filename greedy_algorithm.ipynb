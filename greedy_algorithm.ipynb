{
 "cells": [
  {
   "cell_type": "code",
   "execution_count": null,
   "metadata": {},
   "outputs": [],
   "source": [
    "import numpy as np\n",
    "probs= np.random.uniform(size=10)\n",
    "real_q= probs\n",
    "\n",
    "estimated_q=[0.0 for i in range(10)]\n",
    "visited_num=[0 for i in range(10)]\n",
    "\n",
    "epsilon=0.1\n",
    "probs"
   ]
  },
  {
   "cell_type": "code",
   "execution_count": null,
   "metadata": {},
   "outputs": [],
   "source": [
    "def get_action():\n",
    "    r=np.random.random()\n",
    "    if r<epsilon:\n",
    "        return np.random.randint(0,10)\n",
    "    else:\n",
    "        return np.argmax(estimated_q)\n",
    "\n",
    "get_action()"
   ]
  },
  {
   "cell_type": "code",
   "execution_count": null,
   "metadata": {},
   "outputs": [],
   "source": [
    "def interactive(action:int):\n",
    "    r = np.random.random()\n",
    "    if r<=probs[action]:\n",
    "        return 1.0\n",
    "    else:\n",
    "        return 0.0\n",
    "\n",
    "interactive(1)"
   ]
  },
  {
   "cell_type": "code",
   "execution_count": null,
   "metadata": {},
   "outputs": [],
   "source": [
    "def update_estimated_q(action:int, rewards:float):\n",
    "    q = estimated_q[action]\n",
    "    n = visited_num[action]\n",
    "    if n == 0:\n",
    "        estimated_q[action] = rewards\n",
    "    else:\n",
    "        estimated_q[action] = q + (rewards - q)/(n+1)\n",
    "    \n",
    "    visited_num[action] = 1 + n\n",
    "    return \n"
   ]
  },
  {
   "cell_type": "code",
   "execution_count": null,
   "metadata": {},
   "outputs": [],
   "source": [
    "for _ in range(400000):\n",
    "    action= get_action()\n",
    "    rewards=interactive(action)\n",
    "    update_estimated_q(action,rewards)\n",
    "\n",
    "estimated_q"
   ]
  }
 ],
 "metadata": {
  "kernelspec": {
   "display_name": "pytorch",
   "language": "python",
   "name": "python3"
  },
  "language_info": {
   "codemirror_mode": {
    "name": "ipython",
    "version": 3
   },
   "file_extension": ".py",
   "mimetype": "text/x-python",
   "name": "python",
   "nbconvert_exporter": "python",
   "pygments_lexer": "ipython3",
   "version": "3.6.13"
  },
  "orig_nbformat": 4
 },
 "nbformat": 4,
 "nbformat_minor": 2
}
