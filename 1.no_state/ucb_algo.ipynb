{
 "cells": [
  {
   "cell_type": "code",
   "execution_count": null,
   "metadata": {},
   "outputs": [],
   "source": [
    "import numpy as np\n",
    "probs = np.random.uniform(size=10)\n",
    "real_q = probs\n",
    "\n",
    "estimated_q = [0.0 for _ in range(10)]\n",
    "visited_num = [1 for _ in range(10)]\n",
    "\n",
    "\n",
    "rewards_num = 0.0\n",
    "epsilon = 0.1\n",
    "probs"
   ]
  },
  {
   "cell_type": "code",
   "execution_count": null,
   "metadata": {},
   "outputs": [],
   "source": [
    "def get_action() -> int:\n",
    "    ucb_q = []\n",
    "    coff = 2.0\n",
    "    for i in range(len(estimated_q)):\n",
    "        ucb = coff*np.sqrt(np.log(np.sum(visited_num))/visited_num[i])\n",
    "        ucb_q.append(estimated_q[i]+ucb)\n",
    "    return int(np.argmax(ucb_q))\n",
    "\n",
    "\n",
    "print(get_action())"
   ]
  },
  {
   "cell_type": "code",
   "execution_count": null,
   "metadata": {},
   "outputs": [],
   "source": [
    "def interact(action:int):\n",
    "    r = np.random.random()\n",
    "    if r<=probs[action]:\n",
    "        return 1.0\n",
    "    else:\n",
    "        return 0.0\n",
    "\n",
    "interact(1)"
   ]
  },
  {
   "cell_type": "code",
   "execution_count": null,
   "metadata": {},
   "outputs": [],
   "source": [
    "# incrementally calculate action value expection\n",
    "def update_estimated_q(action: int, rewards: float):\n",
    "    q = estimated_q[action]\n",
    "    visited_num[action] += 1\n",
    "    n = visited_num[action]\n",
    "    estimated_q[action] = q + (rewards - q)/n\n",
    "    return\n"
   ]
  },
  {
   "cell_type": "code",
   "execution_count": null,
   "metadata": {},
   "outputs": [],
   "source": [
    "for _ in range(40000):\n",
    "    action = get_action()\n",
    "    rewards = interact(action)\n",
    "    update_estimated_q(action, rewards)\n",
    "    rewards_num += rewards\n",
    "\n",
    "\n",
    "print(estimated_q)\n",
    "print(rewards_num)\n",
    "print(np.max(probs)*np.sum(visited_num))"
   ]
  }
 ],
 "metadata": {
  "kernelspec": {
   "display_name": "QCNet",
   "language": "python",
   "name": "python3"
  },
  "language_info": {
   "codemirror_mode": {
    "name": "ipython",
    "version": 3
   },
   "file_extension": ".py",
   "mimetype": "text/x-python",
   "name": "python",
   "nbconvert_exporter": "python",
   "pygments_lexer": "ipython3",
   "version": "3.8.16"
  }
 },
 "nbformat": 4,
 "nbformat_minor": 2
}
