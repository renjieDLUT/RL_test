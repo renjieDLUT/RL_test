{
 "cells": [
  {
   "cell_type": "code",
   "execution_count": null,
   "metadata": {},
   "outputs": [],
   "source": [
    "import numpy as np\n",
    "probs = np.random.uniform(size=10)\n",
    "real_q = probs\n",
    "\n",
    "estimated_q = [0.0 for _ in range(10)]\n",
    "visited_num = [0 for _ in range(10)]\n",
    "rewards_num = 0.0\n",
    "\n",
    "epsilon = 1.0\n",
    "probs"
   ]
  },
  {
   "cell_type": "code",
   "execution_count": null,
   "metadata": {},
   "outputs": [],
   "source": [
    "def get_action() -> int:\n",
    "    r = np.random.random()\n",
    "    if r < epsilon:\n",
    "        return np.random.randint(0, 10)\n",
    "    else:\n",
    "        return int(np.argmax(estimated_q))\n",
    "\n",
    "\n",
    "get_action()"
   ]
  },
  {
   "cell_type": "code",
   "execution_count": null,
   "metadata": {},
   "outputs": [],
   "source": [
    "def interact(action:int):\n",
    "    r = np.random.random()\n",
    "    if r<=probs[action]:\n",
    "        return 1.0\n",
    "    else:\n",
    "        return 0.0\n",
    "\n",
    "interact(1)"
   ]
  },
  {
   "cell_type": "code",
   "execution_count": null,
   "metadata": {},
   "outputs": [],
   "source": [
    "# incrementally calculate action value expection\n",
    "def update_estimated_q(action: int, rewards: float):\n",
    "    q = estimated_q[action]\n",
    "    visited_num[action] += 1\n",
    "    n = visited_num[action]\n",
    "    estimated_q[action] = q + (rewards - q)/n\n",
    "    return"
   ]
  },
  {
   "cell_type": "code",
   "execution_count": null,
   "metadata": {},
   "outputs": [],
   "source": [
    "for _ in range(4000):\n",
    "    action = get_action()\n",
    "    rewards = interact(action)\n",
    "    update_estimated_q(action, rewards)\n",
    "    rewards_num += rewards\n",
    "    epsilon *= 0.999\n",
    "\n",
    "print(estimated_q)\n",
    "print(rewards_num)\n",
    "print(np.max(probs)*np.sum(visited_num))"
   ]
  }
 ],
 "metadata": {
  "kernelspec": {
   "display_name": "QCNet",
   "language": "python",
   "name": "python3"
  },
  "language_info": {
   "codemirror_mode": {
    "name": "ipython",
    "version": 3
   },
   "file_extension": ".py",
   "mimetype": "text/x-python",
   "name": "python",
   "nbconvert_exporter": "python",
   "pygments_lexer": "ipython3",
   "version": "3.8.16"
  }
 },
 "nbformat": 4,
 "nbformat_minor": 2
}
